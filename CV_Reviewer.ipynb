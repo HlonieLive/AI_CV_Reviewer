{
 "cells": [
  {
   "cell_type": "code",
   "execution_count": null,
   "id": "1b3ce8f8",
   "metadata": {},
   "outputs": [],
   "source": [
    "# Import necessary libraries\n",
    "import os\n",
    "from dotenv import load_dotenv\n",
    "import fitz\n",
    "import google.generativeai as genai\n",
    "import ipywidgets as widgets\n",
    "from IPython.display import display, Markdown"
   ]
  },
  {
   "cell_type": "code",
   "execution_count": 20,
   "id": "c17743ca",
   "metadata": {},
   "outputs": [],
   "source": [
    "# Load environment variables from .env file to access your API key\n",
    "load_dotenv()\n",
    "genai.configure(api_key=os.getenv(\"GENAI_API_KEY\"))"
   ]
  },
  {
   "cell_type": "code",
   "execution_count": 21,
   "id": "07fa171b",
   "metadata": {},
   "outputs": [
    {
     "data": {
      "application/vnd.jupyter.widget-view+json": {
       "model_id": "cb0ec72acff24f6989e7faa13abcbf7d",
       "version_major": 2,
       "version_minor": 0
      },
      "text/plain": [
       "FileUpload(value=(), accept='.pdf', description='Upload')"
      ]
     },
     "metadata": {},
     "output_type": "display_data"
    }
   ],
   "source": [
    "# File processing and upload\n",
    "uploader = widgets.FileUpload(accept=\".pdf\", multiple=False)\n",
    "display(uploader)\n",
    "\n",
    "\n",
    "def on_upload_change(change):\n",
    "    if uploader.value:\n",
    "        uploaded_file = next(iter(uploader.value.values()))\n",
    "        file_bytes = uploaded_file[\"content\"]\n",
    "\n",
    "        with open(\"uploaded_resume.pdf\", \"wb\") as f:\n",
    "            f.write(file_bytes)\n",
    "        doc = fitz.open(\"uploaded_resume.pdf\")\n",
    "        resume_text = \"\"\n",
    "        for page in doc:\n",
    "            resume_text += page.get_text()\n",
    "        print(\"Resume uploaded successfully.\")\n",
    "\n",
    "\n",
    "uploader.observe(on_upload_change, names=\"value\")"
   ]
  }
 ],
 "metadata": {
  "kernelspec": {
   "display_name": "Python 3",
   "language": "python",
   "name": "python3"
  },
  "language_info": {
   "codemirror_mode": {
    "name": "ipython",
    "version": 3
   },
   "file_extension": ".py",
   "mimetype": "text/x-python",
   "name": "python",
   "nbconvert_exporter": "python",
   "pygments_lexer": "ipython3",
   "version": "3.12.2"
  }
 },
 "nbformat": 4,
 "nbformat_minor": 5
}
