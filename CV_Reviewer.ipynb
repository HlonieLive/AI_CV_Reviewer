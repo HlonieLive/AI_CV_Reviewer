{
 "cells": [
  {
   "cell_type": "code",
   "execution_count": null,
   "id": "1b3ce8f8",
   "metadata": {},
   "outputs": [],
   "source": [
    "# Import necessary libraries\n",
    "import os\n",
    "from dotenv import load_dotenv\n",
    "import fitz\n",
    "import google.generativeai as genai\n",
    "import ipywidgets as widgets\n",
    "from IPython.display import display, Markdown"
   ]
  },
  {
   "cell_type": "code",
   "execution_count": 20,
   "id": "c17743ca",
   "metadata": {},
   "outputs": [],
   "source": [
    "# Load environment variables from .env file to access your API key\n",
    "load_dotenv()\n",
    "genai.configure(api_key=os.getenv(\"GENAI_API_KEY\"))"
   ]
  },
  {
   "cell_type": "code",
   "execution_count": 23,
   "id": "07fa171b",
   "metadata": {},
   "outputs": [
    {
     "data": {
      "application/vnd.jupyter.widget-view+json": {
       "model_id": "007f444c814b4fa98eddc93a996afb2f",
       "version_major": 2,
       "version_minor": 0
      },
      "text/plain": [
       "FileUpload(value=(), accept='.pdf', description='Upload')"
      ]
     },
     "metadata": {},
     "output_type": "display_data"
    }
   ],
   "source": [
    "# File processing and upload\n",
    "uploader = widgets.FileUpload(accept=\".pdf\", multiple=False)\n",
    "display(uploader)\n",
    "\n",
    "\n",
    "def on_upload_change(change):\n",
    "    if uploader.value:\n",
    "        uploaded_file = next(iter(uploader.value.values()))\n",
    "        file_bytes = uploaded_file[\"content\"]\n",
    "\n",
    "        with open(\"uploaded_resume.pdf\", \"wb\") as f:\n",
    "            f.write(file_bytes)\n",
    "        doc = fitz.open(\"uploaded_resume.pdf\")\n",
    "        resume_text = \"\"\n",
    "        for page in doc:\n",
    "            resume_text += page.get_text()\n",
    "        print(\"Resume uploaded successfully.\")\n",
    "\n",
    "\n",
    "uploader.observe(on_upload_change, names=\"value\")"
   ]
  },
  {
   "cell_type": "code",
   "execution_count": 22,
   "id": "063c5baa",
   "metadata": {},
   "outputs": [
    {
     "data": {
      "application/vnd.jupyter.widget-view+json": {
       "model_id": "9b2875961e4441309d812459ee7567cf",
       "version_major": 2,
       "version_minor": 0
      },
      "text/plain": [
       "Dropdown(description='Job Type:', options=('Software Engineer', 'Data Scientist', 'Product Manager', 'Data Ana…"
      ]
     },
     "metadata": {},
     "output_type": "display_data"
    }
   ],
   "source": [
    "# The Jobs Type dropdown\n",
    "# This widget allows users to select the type of job they are applying for.\n",
    "job_type = widgets.Dropdown(\n",
    "    options=[\n",
    "        \"Software Engineer\",\n",
    "        \"Data Scientist\",\n",
    "        \"Product Manager\",\n",
    "        \"Data Analyst\",\n",
    "        \"Machine Learning Engineer\",\n",
    "        \"DevOps Engineer\",\n",
    "        \"Frontend Developer\",\n",
    "        \"Backend Developer\",\n",
    "        \"Full Stack Developer\",\n",
    "        \"Mobile Developer\",\n",
    "        \"QA Engineer\",\n",
    "        \"UI/UX Designer\",\n",
    "        \"Cloud Engineer\",\n",
    "        \"Database Administrator\",\n",
    "        \"IT Support Specialist\",\n",
    "        \"Cybersecurity Analyst\",\n",
    "        \"Network Engineer\",\n",
    "        \"Business Analyst\",\n",
    "        \"Project Manager\",\n",
    "        \"Scrum Master\",\n",
    "        \"Systems Engineer\",\n",
    "        \"AI Researcher\",\n",
    "        \"Technical Writer\",\n",
    "        \"Solutions Architect\",\n",
    "        \"Site Reliability Engineer\",\n",
    "        \"Game Developer\",\n",
    "        \"Embedded Systems Engineer\",\n",
    "        \"Hardware Engineer\",\n",
    "        \"Sales Engineer\",\n",
    "        \"Marketing Specialist\",\n",
    "        \"SEO Specialist\",\n",
    "        \"Content Strategist\",\n",
    "        \"Graphic Designer\",\n",
    "        \"HR Specialist\",\n",
    "        \"Financial Analyst\",\n",
    "        \"Operations Manager\",\n",
    "        \"Customer Success Manager\",\n",
    "        \"Account Manager\",\n",
    "        \"Legal Counsel\",\n",
    "        \"Research Scientist\",\n",
    "        \"Statistician\",\n",
    "        \"Bio-informatics Scientist\",\n",
    "        \"Healthcare Data Analyst\",\n",
    "        \"Robotics Engineer\",\n",
    "        \"Automation Engineer\",\n",
    "        \"Penetration Tester\",\n",
    "        \"Blockchain Developer\",\n",
    "        \"Augmented Reality Developer\",\n",
    "        \"Virtual Reality Developer\",\n",
    "        \"Product Owner\",\n",
    "        \"Release Manager\",\n",
    "    ],\n",
    "    value=\"Software Engineer\",\n",
    "    description=\"Job Type:\",\n",
    ")\n",
    "display(job_type)"
   ]
  }
 ],
 "metadata": {
  "kernelspec": {
   "display_name": "Python 3",
   "language": "python",
   "name": "python3"
  },
  "language_info": {
   "codemirror_mode": {
    "name": "ipython",
    "version": 3
   },
   "file_extension": ".py",
   "mimetype": "text/x-python",
   "name": "python",
   "nbconvert_exporter": "python",
   "pygments_lexer": "ipython3",
   "version": "3.12.2"
  }
 },
 "nbformat": 4,
 "nbformat_minor": 5
}
